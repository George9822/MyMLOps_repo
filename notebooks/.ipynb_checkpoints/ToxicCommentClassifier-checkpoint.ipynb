{
 "cells": [
  {
   "cell_type": "markdown",
   "metadata": {},
   "source": [
    "# Toxic Comment Classifier"
   ]
  },
  {
   "cell_type": "code",
   "execution_count": 1,
   "metadata": {
    "tags": []
   },
   "outputs": [],
   "source": [
    "import numpy as np\n",
    "import pandas as pd\n",
    "import seaborn as sns\n",
    "from matplotlib import pyplot as plt"
   ]
  },
  {
   "cell_type": "markdown",
   "metadata": {},
   "source": [
    "# The data\n",
    "\n",
    "First, we load the dataset of Wikipedia comments from the `data` folder. This dataset was obtained from [Toxic Comment Classification Challenge](https://www.kaggle.com/competitions/jigsaw-toxic-comment-classification-challenge/data) Kaggle competition. Each row contains the comment text and labels for toxic behavior: `toxic`, `severe_toxic`, `obscene`, `threat`, `insult` and `identity_hate`."
   ]
  },
  {
   "cell_type": "code",
   "execution_count": 2,
   "metadata": {
    "tags": []
   },
   "outputs": [],
   "source": [
    "import os\n",
    "\n",
    "# We limit the number of rows loaded from the dataset to speed up training time\n",
    "NROWS = 10000\n",
    "\n",
    "tutorial_dir_path = os.path.dirname(os.path.abspath(os.getcwd()))\n",
    "train_data_path = os.path.join(tutorial_dir_path, \"data/train.csv\")\n",
    "\n",
    "train = pd.read_csv(train_data_path, nrows=NROWS)"
   ]
  },
  {
   "cell_type": "markdown",
   "metadata": {},
   "source": [
    "Let's explore the data to visualize what it looks like and understand the distribution across the toxicity behaviors."
   ]
  },
  {
   "cell_type": "code",
   "execution_count": 3,
   "metadata": {
    "tags": []
   },
   "outputs": [
    {
     "name": "stdout",
     "output_type": "stream",
     "text": [
      "Train data shape:  (5000, 8)\n"
     ]
    },
    {
     "data": {
      "text/html": [
       "<div>\n",
       "<style scoped>\n",
       "    .dataframe tbody tr th:only-of-type {\n",
       "        vertical-align: middle;\n",
       "    }\n",
       "\n",
       "    .dataframe tbody tr th {\n",
       "        vertical-align: top;\n",
       "    }\n",
       "\n",
       "    .dataframe thead th {\n",
       "        text-align: right;\n",
       "    }\n",
       "</style>\n",
       "<table border=\"1\" class=\"dataframe\">\n",
       "  <thead>\n",
       "    <tr style=\"text-align: right;\">\n",
       "      <th></th>\n",
       "      <th>id</th>\n",
       "      <th>comment_text</th>\n",
       "      <th>toxic</th>\n",
       "      <th>severe_toxic</th>\n",
       "      <th>obscene</th>\n",
       "      <th>threat</th>\n",
       "      <th>insult</th>\n",
       "      <th>identity_hate</th>\n",
       "    </tr>\n",
       "  </thead>\n",
       "  <tbody>\n",
       "    <tr>\n",
       "      <th>0</th>\n",
       "      <td>0000997932d777bf</td>\n",
       "      <td>Explanation\\nWhy the edits made under my usern...</td>\n",
       "      <td>0</td>\n",
       "      <td>0</td>\n",
       "      <td>0</td>\n",
       "      <td>0</td>\n",
       "      <td>0</td>\n",
       "      <td>0</td>\n",
       "    </tr>\n",
       "    <tr>\n",
       "      <th>1</th>\n",
       "      <td>000103f0d9cfb60f</td>\n",
       "      <td>D'aww! He matches this background colour I'm s...</td>\n",
       "      <td>0</td>\n",
       "      <td>0</td>\n",
       "      <td>0</td>\n",
       "      <td>0</td>\n",
       "      <td>0</td>\n",
       "      <td>0</td>\n",
       "    </tr>\n",
       "    <tr>\n",
       "      <th>2</th>\n",
       "      <td>000113f07ec002fd</td>\n",
       "      <td>Hey man, I'm really not trying to edit war. It...</td>\n",
       "      <td>0</td>\n",
       "      <td>0</td>\n",
       "      <td>0</td>\n",
       "      <td>0</td>\n",
       "      <td>0</td>\n",
       "      <td>0</td>\n",
       "    </tr>\n",
       "    <tr>\n",
       "      <th>3</th>\n",
       "      <td>0001b41b1c6bb37e</td>\n",
       "      <td>\"\\nMore\\nI can't make any real suggestions on ...</td>\n",
       "      <td>0</td>\n",
       "      <td>0</td>\n",
       "      <td>0</td>\n",
       "      <td>0</td>\n",
       "      <td>0</td>\n",
       "      <td>0</td>\n",
       "    </tr>\n",
       "    <tr>\n",
       "      <th>4</th>\n",
       "      <td>0001d958c54c6e35</td>\n",
       "      <td>You, sir, are my hero. Any chance you remember...</td>\n",
       "      <td>0</td>\n",
       "      <td>0</td>\n",
       "      <td>0</td>\n",
       "      <td>0</td>\n",
       "      <td>0</td>\n",
       "      <td>0</td>\n",
       "    </tr>\n",
       "  </tbody>\n",
       "</table>\n",
       "</div>"
      ],
      "text/plain": [
       "                 id                                       comment_text  toxic  \\\n",
       "0  0000997932d777bf  Explanation\\nWhy the edits made under my usern...      0   \n",
       "1  000103f0d9cfb60f  D'aww! He matches this background colour I'm s...      0   \n",
       "2  000113f07ec002fd  Hey man, I'm really not trying to edit war. It...      0   \n",
       "3  0001b41b1c6bb37e  \"\\nMore\\nI can't make any real suggestions on ...      0   \n",
       "4  0001d958c54c6e35  You, sir, are my hero. Any chance you remember...      0   \n",
       "\n",
       "   severe_toxic  obscene  threat  insult  identity_hate  \n",
       "0             0        0       0       0              0  \n",
       "1             0        0       0       0              0  \n",
       "2             0        0       0       0              0  \n",
       "3             0        0       0       0              0  \n",
       "4             0        0       0       0              0  "
      ]
     },
     "execution_count": 3,
     "metadata": {},
     "output_type": "execute_result"
    }
   ],
   "source": [
    "print(\"Train data shape: \", train.shape)\n",
    "# sample rows to visualize\n",
    "train.head()"
   ]
  },
  {
   "cell_type": "code",
   "execution_count": 4,
   "metadata": {
    "tags": []
   },
   "outputs": [
    {
     "data": {
      "image/png": "[encoded data removed]",
      "text/plain": [
       "<Figure size 640x480 with 1 Axes>"
      ]
     },
     "metadata": {},
     "output_type": "display_data"
    }
   ],
   "source": [
    "sentence_lengths = [len(sentence) for sentence in train['comment_text']]\n",
    "plt.hist(sentence_lengths,500)\n",
    "plt.xlabel('Length of comments')\n",
    "plt.show()"
   ]
  },
  {
   "cell_type": "code",
   "execution_count": 5,
   "metadata": {
    "tags": []
   },
   "outputs": [
    {
     "data": {
      "text/plain": [
       "Text(0.5, 0, 'Feature Labels')"
      ]
     },
     "execution_count": 5,
     "metadata": {},
     "output_type": "execute_result"
    },
    {
     "data": {
      "image/png": "[encoded data removed]",
      "text/plain": [
       "<Figure size 800x800 with 1 Axes>"
      ]
     },
     "metadata": {},
     "output_type": "display_data"
    }
   ],
   "source": [
    "feature = train.drop(['id', 'comment_text'], axis=1)     ### Removed unnecessary columns - id and comment_text\n",
    "counts = []                                               ### A list that contains tuple which consists of class label and number of comments for that particular class \n",
    "categories = list(feature.columns.values)\n",
    "for i in categories:\n",
    "    counts.append((i, feature[i].sum()))\n",
    "    \n",
    "df_1 = pd.DataFrame(counts, columns=['Feature Labels', 'Total Comments'])   ### Dataframe made up of category and total number of comments\n",
    "df_1.plot(x='Feature Labels', y='Total Comments', kind='bar', figsize=(8,8))\n",
    "plt.title(\"Comments per category\")\n",
    "plt.ylabel('Total comments', fontsize=12)\n",
    "plt.xlabel('Feature Labels', fontsize=12)"
   ]
  },
  {
   "cell_type": "markdown",
   "metadata": {},
   "source": [
    "# Dataset split"
   ]
  },
  {
   "cell_type": "code",
   "execution_count": 6,
   "metadata": {},
   "outputs": [],
   "source": [
    "from sklearn.model_selection import train_test_split\n",
    "\n",
    "X = train['comment_text']\n",
    "y = train.iloc[:,2:]\n",
    "\n",
    "X_train, X_test, y_train, y_test = train_test_split(X, y, test_size=0.25)"
   ]
  },
  {
   "cell_type": "markdown",
   "metadata": {},
   "source": [
    "# Preprocessing\n",
    "\n",
    "We preprocess the text using these rules:\n",
    "\n",
    "1. Remove special chars\n",
    "2. Remove punctuation\n",
    "3. Convert to lowercase\n",
    "4. Replace numbers\n",
    "5. Tokenize text\n",
    "6. Remove stopwords\n",
    "7. Lemmatize words"
   ]
  },
  {
   "cell_type": "code",
   "execution_count": 7,
   "metadata": {},
   "outputs": [],
   "source": [
    "from sklearn.base import BaseEstimator\n",
    "\n",
    "class TextPreprocessor(BaseEstimator):\n",
    "    \"\"\"TextPreprocessor preprocesses text by applying these rules:\n",
    "    \n",
    "    - Remove special chars\n",
    "    - Remove punctuation\n",
    "    - Convert to lowercase\n",
    "    - Replace numbers\n",
    "    - Tokenize text\n",
    "    - Remove stopwords\n",
    "    - Lemmatize words\n",
    "    \n",
    "    It implements the BaseEstimator interface and can be used in sklearn pipelines.\n",
    "    \"\"\"\n",
    "    \n",
    "    def remove_special_chars(self, text):\n",
    "        import re\n",
    "        import html\n",
    "        \n",
    "        re1 = re.compile(r'  +')\n",
    "        x1 = text.lower().replace('#39;', \"'\").replace('amp;', '&').replace('#146;', \"'\").replace(\n",
    "            'nbsp;', ' ').replace('#36;', '$').replace('\\\\n', \"\\n\").replace('quot;', \"'\").replace(\n",
    "            '<br />', \"\\n\").replace('\\\\\"', '\"').replace('<unk>', 'u_n').replace(' @.@ ', '.').replace(\n",
    "            ' @-@ ', '-').replace('\\\\', ' \\\\ ')\n",
    "        return re1.sub(' ', html.unescape(x1))\n",
    "    \n",
    "    def remove_punctuation(self, text):\n",
    "        \"\"\"Remove punctuation from list of tokenized words\"\"\"\n",
    "        import string\n",
    "        \n",
    "        translator = str.maketrans('', '', string.punctuation)\n",
    "        return text.translate(translator)\n",
    "\n",
    "    def to_lowercase(self, text):\n",
    "        return text.lower()\n",
    "\n",
    "    def replace_numbers(self, text):\n",
    "        \"\"\"Replace all interger occurrences in list of tokenized words with textual representation\"\"\"\n",
    "        import re\n",
    "        \n",
    "        return re.sub(r'\\d+', '', text)\n",
    "    \n",
    "    def text2words(self, text):\n",
    "        from nltk.tokenize import word_tokenize\n",
    "        \n",
    "        return word_tokenize(text)\n",
    "\n",
    "    def remove_stopwords(self, words):\n",
    "        \"\"\"\n",
    "        :param words:\n",
    "        :type words:\n",
    "        :param stop_words: from sklearn.feature_extraction.stop_words import ENGLISH_STOP_WORDS\n",
    "        or\n",
    "        from spacy.lang.en.stop_words import STOP_WORDS\n",
    "        :type stop_words:\n",
    "        :return:\n",
    "        :rtype:\n",
    "        \"\"\"\n",
    "        from nltk.corpus import stopwords\n",
    "        stop_words = stopwords.words('english')\n",
    "        \n",
    "        return [word for word in words if word not in stop_words]\n",
    "\n",
    "    def lemmatize_words(self, words):\n",
    "        \"\"\"Lemmatize words in text\"\"\"\n",
    "        from nltk.stem import WordNetLemmatizer\n",
    "\n",
    "        lemmatizer = WordNetLemmatizer()\n",
    "        return [lemmatizer.lemmatize(word) for word in words]\n",
    "\n",
    "    def lemmatize_verbs(self, words):\n",
    "        \"\"\"Lemmatize verbs in text\"\"\"\n",
    "        from nltk.stem import WordNetLemmatizer\n",
    "\n",
    "        lemmatizer = WordNetLemmatizer()\n",
    "        return ' '.join([lemmatizer.lemmatize(word, pos='v') for word in words])\n",
    "\n",
    "    def clean_text(self, text):\n",
    "        text = self.remove_special_chars(text)\n",
    "        text = self.remove_punctuation(text)\n",
    "        text = self.to_lowercase(text)\n",
    "        text = self.replace_numbers(text)\n",
    "        words = self.text2words(text)\n",
    "        words = self.remove_stopwords(words)\n",
    "        words = self.lemmatize_words(words)\n",
    "        words = self.lemmatize_verbs(words)\n",
    "\n",
    "        return ''.join(words)\n",
    "    \n",
    "    def fit(self, X, y=None):\n",
    "        return self\n",
    "    \n",
    "    def transform(self, X):\n",
    "        return map(lambda x: self.clean_text(x), X)"
   ]
  },
  {
   "cell_type": "markdown",
   "metadata": {},
   "source": [
    "# Tracking experiment with MLflow\n",
    "\n",
    "We use a mix of manual and automatic logging to record training runs with MLflow. `mlflow.sklearn.autolog` does the heavy lifting of tracking most metrics and parameters. We complement these metrics by logging some results manually.\n",
    "\n",
    "**Important**: Because the [git commit sha is not automatically tracked](https://github.com/mlflow/mlflow/issues/973) by MLflow when logging data on Jupyter notebooks, we must log it manually as a workaround. This allows us to connect experiment results to the version of the code and data that generated it.\n",
    "\n",
    "`MLflow run` -> `Git commit` -> `DVC data version`"
   ]
  },
  {
   "cell_type": "code",
   "execution_count": 8,
   "metadata": {},
   "outputs": [],
   "source": [
    "import mlflow\n",
    "\n",
    "mlflow.set_tracking_uri(\"http://localhost:5000\")\n",
    "mlflow.set_experiment(\"Toxic Comment Classifier\")\n",
    "mlflow.sklearn.autolog(silent=True)\n",
    "\n",
    "import git\n",
    "repo = git.Repo(search_parent_directories=True)\n",
    "sha_commit = repo.head.object.hexsha"
   ]
  },
  {
   "cell_type": "markdown",
   "metadata": {},
   "source": [
    "# Training the models\n",
    "\n",
    "We try three different approaches where we play with different vectorization methods: bag of words, TF-IDF and word2vec. The K-nearest-neighbors classifier remains the same for all three experiments. In summary:\n",
    "\n",
    "* Bag of words + K-nearest-neighbors\n",
    "* TF-IDF + K-nearest-neighbors\n",
    "* Word2vec + K-nearest-neighbors"
   ]
  },
  {
   "cell_type": "markdown",
   "metadata": {},
   "source": [
    "## Bag of words + K-nearest neighbors\n",
    "\n",
    "In this approach, we use the [bag of words model](https://en.wikipedia.org/wiki/Bag-of-words_model) to generate a vector of features from each sentence in the dataset. These features are then passed to the [K-nearest neighbors classifier](https://en.wikipedia.org/wiki/K-nearest_neighbors_algorithm) which learns to predict the labels."
   ]
  },
  {
   "cell_type": "code",
   "execution_count": 9,
   "metadata": {},
   "outputs": [],
   "source": [
    "from sklearn.feature_extraction.text import CountVectorizer\n",
    "from sklearn.neighbors import KNeighborsClassifier\n",
    "from sklearn.pipeline import Pipeline\n",
    "from sklearn.metrics import f1_score\n",
    "\n",
    "p = Pipeline([\n",
    "    ('preprocessing', TextPreprocessor()),\n",
    "    ('bow', CountVectorizer(min_df=2, max_features=1500)),\n",
    "    ('knn', KNeighborsClassifier(n_neighbors=6))\n",
    "])"
   ]
  },
  {
   "cell_type": "code",
   "execution_count": 10,
   "metadata": {},
   "outputs": [
    {
     "name": "stderr",
     "output_type": "stream",
     "text": [
      "/home/ubuntu/.local/lib/python3.7/site-packages/sklearn/metrics/_classification.py:1318: UndefinedMetricWarning: Precision is ill-defined and being set to 0.0 in labels with no predicted samples. Use `zero_division` parameter to control this behavior.\n",
      "  _warn_prf(average, modifier, msg_start, len(result))\n"
     ]
    },
    {
     "data": {
      "image/png": "[encoded data removed]",
      "text/plain": [
       "<Figure size 1050x700 with 1 Axes>"
      ]
     },
     "metadata": {},
     "output_type": "display_data"
    }
   ],
   "source": [
    "mlflow.start_run()\n",
    "mlflow.set_tag('mlflow.source.git.commit', sha_commit)\n",
    "mlflow.set_tag('method', 'bag of words')\n",
    "\n",
    "p.fit(X_train, y_train)\n",
    "p.score(X_test, y_test)\n",
    "\n",
    "mlflow.end_run()"
   ]
  },
  {
   "cell_type": "markdown",
   "metadata": {},
   "source": [
    "## TF-IDF + K-nearest neighbors\n",
    "\n",
    "In this approach, we use the [TF–IDF model](https://en.wikipedia.org/wiki/Tf%E2%80%93idf) to generate a vector of features from each sentence in the dataset. These features are then passed to the [K-nearest neighbors classifier](https://en.wikipedia.org/wiki/K-nearest_neighbors_algorithm) which learns to predict the labels."
   ]
  },
  {
   "cell_type": "code",
   "execution_count": 11,
   "metadata": {},
   "outputs": [],
   "source": [
    "from sklearn.feature_extraction.text import TfidfVectorizer\n",
    "from sklearn.neighbors import KNeighborsClassifier\n",
    "from sklearn.pipeline import Pipeline\n",
    "\n",
    "p = Pipeline([\n",
    "    ('preprocessing', TextPreprocessor()),\n",
    "    ('tfidf', TfidfVectorizer(ngram_range=(1, 2), min_df=2, max_features=1500)),\n",
    "    ('knn', KNeighborsClassifier(n_neighbors=6))\n",
    "])"
   ]
  },
  {
   "cell_type": "code",
   "execution_count": 12,
   "metadata": {},
   "outputs": [
    {
     "name": "stderr",
     "output_type": "stream",
     "text": [
      "/home/ubuntu/.local/lib/python3.7/site-packages/sklearn/metrics/_classification.py:1318: UndefinedMetricWarning: Precision is ill-defined and being set to 0.0 in labels with no predicted samples. Use `zero_division` parameter to control this behavior.\n",
      "  _warn_prf(average, modifier, msg_start, len(result))\n"
     ]
    },
    {
     "data": {
      "image/png": "[encoded data removed]",
      "text/plain": [
       "<Figure size 1050x700 with 1 Axes>"
      ]
     },
     "metadata": {},
     "output_type": "display_data"
    }
   ],
   "source": [
    "mlflow.start_run()\n",
    "mlflow.set_tag('mlflow.source.git.commit', sha_commit)\n",
    "mlflow.set_tag('method', 'tfidf')\n",
    "\n",
    "p.fit(X_train, y_train)\n",
    "p.score(X_test, y_test)\n",
    "\n",
    "mlflow.end_run()"
   ]
  },
  {
   "cell_type": "markdown",
   "metadata": {},
   "source": [
    "## Word2vec + K-nearest neighbors\n",
    "\n",
    "In this approach, we use the [Wor2vec model](https://en.wikipedia.org/wiki/Word2vec) to generate a vector of features from each sentence in the dataset. These features are then passed to the [K-nearest neighbors classifier](https://en.wikipedia.org/wiki/K-nearest_neighbors_algorithm) which learns to predict the labels."
   ]
  },
  {
   "cell_type": "code",
   "execution_count": 13,
   "metadata": {},
   "outputs": [],
   "source": [
    "from sklearn.base import BaseEstimator\n",
    "from gensim.models import Word2Vec\n",
    "\n",
    "class Word2vecTransformer(BaseEstimator):\n",
    "    \"\"\" Wor2vecTransformer provides a wrapper around gensim's Word2Vec model\n",
    "    to be used in sklearn's pipeline.\n",
    "    \"\"\"\n",
    "    \n",
    "    def __init__(self, min_count=5, vector_size=100, window=5):\n",
    "        self.min_count = min_count\n",
    "        self.vector_size = vector_size\n",
    "        self.window = window\n",
    "        self.sentences = []\n",
    "    \n",
    "    def fit(self, x, y=None):\n",
    "        self.sentences = list(map(lambda k: k.split(), x))\n",
    "        \n",
    "        self.model = Word2Vec(min_count=self.min_count, vector_size=self.vector_size, window=self.window, sg=1)\n",
    "        self.model.build_vocab(self.sentences, progress_per=10000)\n",
    "        self.model.train(self.sentences, total_examples=self.model.corpus_count, epochs=20)\n",
    "\n",
    "        return self\n",
    "    \n",
    "    def transform(self, x):\n",
    "        sentences = list(map(lambda k: k.split(), x))\n",
    "        if len(sentences) != 0:\n",
    "            self.sentences = sentences\n",
    "        w2v_words = list(self.model.wv.index_to_key)\n",
    "    \n",
    "        # We calculate the sentence embedding as the average of the embedding of the words in the sentence\n",
    "        vector = []\n",
    "        for sentence in self.sentences:\n",
    "            sentence_vec = np.zeros(self.vector_size)\n",
    "            count = 0\n",
    "            for word in sentence: \n",
    "                if word in w2v_words:\n",
    "                    vec = self.model.wv[word]\n",
    "                    sentence_vec += vec \n",
    "                    count += 1\n",
    "            if count != 0:\n",
    "                sentence_vec /= count # averaging\n",
    "            vector.append(sentence_vec)\n",
    "            \n",
    "        return vector"
   ]
  },
  {
   "cell_type": "code",
   "execution_count": 14,
   "metadata": {},
   "outputs": [],
   "source": [
    "from sklearn.neighbors import KNeighborsClassifier\n",
    "from sklearn.pipeline import Pipeline\n",
    "\n",
    "p = Pipeline([\n",
    "    ('preprocessing', TextPreprocessor()),\n",
    "    ('word2vec', Word2vecTransformer()),\n",
    "    ('knn', KNeighborsClassifier(n_neighbors=6))\n",
    "])"
   ]
  },
  {
   "cell_type": "code",
   "execution_count": 15,
   "metadata": {},
   "outputs": [
    {
     "name": "stderr",
     "output_type": "stream",
     "text": [
      "/home/ubuntu/.local/lib/python3.7/site-packages/sklearn/metrics/_classification.py:1318: UndefinedMetricWarning: Precision is ill-defined and being set to 0.0 in labels with no predicted samples. Use `zero_division` parameter to control this behavior.\n",
      "  _warn_prf(average, modifier, msg_start, len(result))\n"
     ]
    },
    {
     "data": {
      "image/png": "[encoded data removed]",
      "text/plain": [
       "<Figure size 1050x700 with 1 Axes>"
      ]
     },
     "metadata": {},
     "output_type": "display_data"
    }
   ],
   "source": [
    "mlflow.start_run()\n",
    "mlflow.set_tag('mlflow.source.git.commit', sha_commit)\n",
    "mlflow.set_tag('method', 'word2vec')\n",
    "\n",
    "p.fit(X_train, y_train)\n",
    "p.score(X_test, y_test)\n",
    "\n",
    "mlflow.end_run()"
   ]
  },
  {
   "cell_type": "markdown",
   "metadata": {
    "tags": []
   },
   "source": [
    "## Aknowledgement\n",
    "\n",
    "This notebook was inspired by [[1]](https://www.kaggle.com/code/marimmedhat/nlp-v1/notebook) and [[2]](https://colab.research.google.com/github/ujjalkumarmaity/Twitter_Sentiment_Analysis/blob/master/Twitter_Sentiment_Analysis_word2vec.ipynb)."
   ]
  }
 ],
 "metadata": {
  "kernelspec": {
   "display_name": "Python 3 (ipykernel)",
   "language": "python",
   "name": "python3"
  },
  "language_info": {
   "codemirror_mode": {
    "name": "ipython",
    "version": 3
   },
   "file_extension": ".py",
   "mimetype": "text/x-python",
   "name": "python",
   "nbconvert_exporter": "python",
   "pygments_lexer": "ipython3",
   "version": "3.7.14"
  },
  "vscode": {
   "interpreter": {
    "hash": "fd69f43f58546b570e94fd7eba7b65e6bcc7a5bbc4eab0408017d18902915d69"
   }
  }
 },
 "nbformat": 4,
 "nbformat_minor": 4
}
